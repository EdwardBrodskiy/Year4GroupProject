{
 "cells": [
  {
   "cell_type": "code",
   "execution_count": null,
   "id": "99313972-4400-4551-8fa9-090dec7e687d",
   "metadata": {},
   "outputs": [],
   "source": [
    "import pandas as pd\n",
    "import numpy as np\n",
    "np.random.seed(42)\n",
    "import os\n",
    "import cv2\n",
    "\n",
    "import matplotlib.pyplot as plt\n",
    "import matplotlib as mpl\n",
    "\n",
    "from utils import load_everything"
   ]
  },
  {
   "cell_type": "markdown",
   "id": "4fbdbb78-0abd-432f-bc9e-cbfc50dc758b",
   "metadata": {},
   "source": [
    "## Load the Dataset"
   ]
  },
  {
   "cell_type": "code",
   "execution_count": null,
   "id": "67804edf-a277-4879-bcd2-3e700618ca3b",
   "metadata": {},
   "outputs": [],
   "source": [
    "# the dataset contains all of the metadata test and train sets are self explanatory \n",
    "# no shuffling is required this is all done in the loader. indexes match between the dataset and x_train etc\n",
    "# to index for the test set do dataset[len(x_train):]\n",
    "dataset, (x_train, x_test, y_train, y_test) = load_everything(os.path.join('..', 'datasets'))"
   ]
  }
 ],
 "metadata": {
  "kernelspec": {
   "display_name": "Python (machine_learning)",
   "language": "python",
   "name": "machine_learning"
  },
  "language_info": {
   "codemirror_mode": {
    "name": "ipython",
    "version": 3
   },
   "file_extension": ".py",
   "mimetype": "text/x-python",
   "name": "python",
   "nbconvert_exporter": "python",
   "pygments_lexer": "ipython3",
   "version": "3.11.2"
  }
 },
 "nbformat": 4,
 "nbformat_minor": 5
}
