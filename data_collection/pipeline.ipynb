{
 "cells": [
  {
   "cell_type": "code",
   "execution_count": 5,
   "id": "d2851b84",
   "metadata": {},
   "outputs": [],
   "source": [
    "import numpy as np\n",
    "import matplotlib.pyplot as plt\n",
    "import cv2\n",
    "import os\n",
    "from glob import glob"
   ]
  },
  {
   "cell_type": "markdown",
   "id": "40238b16",
   "metadata": {},
   "source": [
    "#### data cleaning"
   ]
  },
  {
   "cell_type": "code",
   "execution_count": 6,
   "id": "8e86f53d",
   "metadata": {},
   "outputs": [],
   "source": [
    "def load_dataset(dataset_config, relative_path = \"raw\"):\n",
    "    root = dataset_config[\"root\"]\n",
    "    relative_path = dataset_config[\"relative_paths\"][relative_path]\n",
    "    g_expr = os.path.join(root, relative_path, \"*/*/*\")\n",
    "    imgs = glob(g_expr)\n",
    "    return imgs\n",
    "\n",
    "def resize(img_path, new_size, method = cv2.INTER_LINEAR):\n",
    "    img = plt.imread(img_path)\n",
    "    *size, _ = img\n",
    "    resize_img = np.copy(img)\n",
    "    if size != new_size:\n",
    "        img = cv2.cvtColor(img, cv2.COLOR_BGR2RGB)\n",
    "        resized_img = cv2.resize(img,  new_size, interpolation = method)\n",
    "    return resized_img\n",
    "\n",
    "def _plot_comparison(raw_img, alt_img):\n",
    "    fig, ax = plt.subplots(2,1)\n",
    "    ax[0].imshow(raw_img)\n",
    "    ax[1].imshow(alt_img)\n",
    "\n",
    "def save_to(relative_path, img_path, img):\n",
    "    path_components = img_path.split(os.path.sep)\n",
    "    img_name = path_components[-1].strip()\n",
    "    try:\n",
    "        raw_index = path_components.index(\"raw\")\n",
    "        path_components[raw_index] = relative_path\n",
    "        sep = os.path.sep\n",
    "        path_str = sep.join(path_components)\n",
    "        exit_code = cv2.imwrite(path_str, img)\n",
    "        if exit_code:\n",
    "            print(img_name, \"saved successfully!\")\n",
    "    except ValueError:\n",
    "        print(\"Skipping\", img_name)\n",
    "\n",
    "def normalize_scale(img):\n",
    "    pass\n",
    "\n",
    "def sanitise(dataset_config, new_size):\n",
    "    raw_dataset = load_dataset(dataset_config, \"raw\")\n",
    "\n",
    "    for img_path in raw_dataset[:1]:\n",
    "        # read image\n",
    "        raw_img = plt.imread(img_path)\n",
    "        # resize it to 256x256\n",
    "        resized_img = resize(img_path, new_size)\n",
    "        # normalize_scale(img)\n",
    "        save_to(\"cleaned\", img_path, resized_img)"
   ]
  },
  {
   "cell_type": "code",
   "execution_count": 7,
   "id": "d6aba3bf",
   "metadata": {},
   "outputs": [
    {
     "name": "stdout",
     "output_type": "stream",
     "text": [
      "d296.jpg saved successfully!\n"
     ]
    }
   ],
   "source": [
    "DATASET_CONFIG = {\n",
    "    \"root\" : \"../datasets\",\n",
    "    \"relative_paths\" : {\n",
    "        \"raw\" : \"raw\", \n",
    "        \"cleaned\" : \"cleaned\"\n",
    "    }\n",
    "}\n",
    "\n",
    "new_size = (256, 256)\n",
    "\n",
    "sanitise(DATASET_CONFIG, new_size)"
   ]
  },
  {
   "cell_type": "markdown",
   "id": "14c3ef95",
   "metadata": {},
   "source": [
    "#### data pre-processing"
   ]
  },
  {
   "cell_type": "code",
   "execution_count": 4,
   "id": "6f69bc17",
   "metadata": {},
   "outputs": [],
   "source": [
    "def convert_to_gs(img):\n",
    "    gs_img = cv2.cvtColor(img, cv2.COLOR_BGR2GRAY)\n",
    "    return gs_img\n"
   ]
  }
 ],
 "metadata": {
  "kernelspec": {
   "display_name": "Python 3",
   "language": "python",
   "name": "python3"
  },
  "language_info": {
   "codemirror_mode": {
    "name": "ipython",
    "version": 3
   },
   "file_extension": ".py",
   "mimetype": "text/x-python",
   "name": "python",
   "nbconvert_exporter": "python",
   "pygments_lexer": "ipython3",
   "version": "3.8.10"
  }
 },
 "nbformat": 4,
 "nbformat_minor": 5
}
