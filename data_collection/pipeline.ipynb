{
 "cells": [
  {
   "cell_type": "code",
   "execution_count": null,
   "id": "898ef218",
   "metadata": {},
   "outputs": [],
   "source": [
    "import numpy as np\n",
    "import pandas as pd\n",
    "import matplotlib.pyplot as plt\n",
    "import cv2\n",
    "import os"
   ]
  },
  {
   "cell_type": "markdown",
   "id": "3cf0b137",
   "metadata": {},
   "source": [
    "#### data cleaning"
   ]
  },
  {
   "cell_type": "code",
   "execution_count": null,
   "id": "2b11b073",
   "metadata": {},
   "outputs": [],
   "source": [
    "def load_dataset(x):\n",
    "    pass\n",
    "\n",
    "def resize(x):\n",
    "    pass\n",
    "\n",
    "def normalize_scale(x):\n",
    "    pass"
   ]
  },
  {
   "cell_type": "markdown",
   "id": "93fa00f4",
   "metadata": {},
   "source": [
    "#### data pre-processing"
   ]
  },
  {
   "cell_type": "code",
   "execution_count": 1,
   "id": "a320e436",
   "metadata": {},
   "outputs": [],
   "source": [
    "def convert_to_gs(x):\n",
    "    pass"
   ]
  }
 ],
 "metadata": {
  "kernelspec": {
   "display_name": "Python 3",
   "language": "python",
   "name": "python3"
  },
  "language_info": {
   "codemirror_mode": {
    "name": "ipython",
    "version": 3
   },
   "file_extension": ".py",
   "mimetype": "text/x-python",
   "name": "python",
   "nbconvert_exporter": "python",
   "pygments_lexer": "ipython3",
   "version": "3.8.10"
  }
 },
 "nbformat": 4,
 "nbformat_minor": 5
}
